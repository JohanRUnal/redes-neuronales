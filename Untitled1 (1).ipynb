{
  "nbformat": 4,
  "nbformat_minor": 0,
  "metadata": {
    "colab": {
      "name": "Untitled1.ipynb",
      "provenance": []
    },
    "kernelspec": {
      "name": "python3",
      "display_name": "Python 3"
    }
  },
  "cells": [
    {
      "cell_type": "code",
      "metadata": {
        "id": "jqT4SOrk8NDZ",
        "colab_type": "code",
        "outputId": "4903745a-f795-4f98-a997-58c58b4a0b24",
        "colab": {
          "base_uri": "https://localhost:8080/",
          "height": 102
        }
      },
      "source": [
        "import tensorflow as tf\n",
        "\n",
        "def suma(a,b):\n",
        "  a = tf.cast(a, dtype= tf.float32)\n",
        "  return tf.add(a,b)\n",
        "def calculo(a, niter=5):\n",
        "  with tf.variable_scope('modelo', reuse = tf.AUTO_REUSE):\n",
        "    b = tf.get_variable('b', shape =(), initializer = tf.truncated_normal_initializer(), trainable = True)\n",
        "  \n",
        "  pred = []\n",
        "  for k in range(niter):\n",
        "    pred.append(suma(a,b))\n",
        "    b = b + 1\n",
        "  return pred\n",
        "with tf.Session() as sess:\n",
        "  tf.global_variables_initializer().run()\n",
        "  resultado = calculo(tf.constant(0))\n",
        "  for i in range(len(resultado)):\n",
        "    print(\"{}:{}\".format(i, sess.run(resultado[i])))\n",
        "\n"
      ],
      "execution_count": 0,
      "outputs": [
        {
          "output_type": "stream",
          "text": [
            "0:0.37120434641838074\n",
            "1:1.3712043762207031\n",
            "2:2.371204376220703\n",
            "3:3.371204376220703\n",
            "4:4.371204376220703\n"
          ],
          "name": "stdout"
        }
      ]
    }
  ]
}